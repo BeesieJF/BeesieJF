{
  "cells": [
    {
      "cell_type": "markdown",
      "metadata": {
        "id": "view-in-github",
        "colab_type": "text"
      },
      "source": [
        "<a href=\"https://colab.research.google.com/github/BeesieJF/BeesieJF/blob/main/CustomAssetAllocEnv.ipynb\" target=\"_parent\"><img src=\"https://colab.research.google.com/assets/colab-badge.svg\" alt=\"Open In Colab\"/></a>"
      ]
    },
    {
      "cell_type": "code",
      "execution_count": null,
      "metadata": {
        "id": "WO7b1MIasZWr"
      },
      "outputs": [],
      "source": [
        "!pip install tensorflow-gpu==1.15.0 tensorflow==1.15.0 gym-anytrading gym stable_baselines"
      ]
    },
    {
      "cell_type": "code",
      "execution_count": null,
      "metadata": {
        "id": "vmDTPGanLXX9"
      },
      "outputs": [],
      "source": [
        "import gym\n",
        "import numpy as np\n",
        "import pandas as pd\n",
        "#from stable_baselines3 import MlpPolicy, CnnPolicy, CnnLstmPolicy\n",
        "#from stable_baselines3 import PPO\n",
        "#from stable_baselines3.common.env_util import make_vec_env\n",
        "from matplotlib import pyplot as plt\n",
        "from gym import spaces"
      ]
    },
    {
      "cell_type": "code",
      "execution_count": null,
      "metadata": {
        "id": "vemJ-smksgIL",
        "colab": {
          "base_uri": "https://localhost:8080/"
        },
        "outputId": "feeec310-3440-408b-f43c-adf3458a4f92"
      },
      "outputs": [
        {
          "output_type": "stream",
          "name": "stdout",
          "text": [
            "Initialization of variables done!\n"
          ]
        }
      ],
      "source": [
        "MAX_ACCOUNT_BALANCE = 200000\n",
        "MAX_NUM_SHARES = 200000\n",
        "MAX_SHARE_PRICE = 1000\n",
        "MAX_OPEN_POSITIONS = 5\n",
        "MAX_STEPS = 10000\n",
        "\n",
        "INITIAL_ACCOUNT_BALANCE = 2000\n",
        "print ('Initialization of variables done!')"
      ]
    },
    {
      "cell_type": "code",
      "execution_count": null,
      "metadata": {
        "id": "78nhmcTJtzwx",
        "colab": {
          "base_uri": "https://localhost:8080/"
        },
        "outputId": "2d44daab-1af1-471f-fe89-b3defbfe826b"
      },
      "outputs": [
        {
          "output_type": "stream",
          "name": "stdout",
          "text": [
            "Initialization of environment and Reset functions done!\n"
          ]
        }
      ],
      "source": [
        "import random\n",
        "\n",
        "class Env4AssetAlloc(gym.Env):\n",
        "  \"\"\"An environment for allocation of S&P500 Stocks in OpenAI gym\"\"\"\n",
        "  metadata = {'render.modes': ['human']}\n",
        "  \n",
        "  def __init__(self, df):\n",
        "    \n",
        "    # Initialize an instance of the enviroment\n",
        "    super(Env4AssetAlloc, self).__init__()\n",
        "    self.df = df\n",
        "    self.reward_range = (0, MAX_ACCOUNT_BALANCE) \n",
        "    \n",
        "    # Actions are weights of stocks/assets - continuous\n",
        "    self.action_space = spaces.Box(low=np.array([0, 0]), high=np.array([3, 1]), dtype=np.float16)\n",
        "    \n",
        "    # Price obs space contains the OHLCV values for the last five prices\n",
        "    self.observation_space = spaces.Box(low=0, high=1, shape=(6, 6), dtype=np.float16)\n",
        "\n",
        "    return #self.action_space, self.observation_space\n",
        "    \n",
        "  def reset(self):\n",
        "    \n",
        "    # Reset the state and environment variables to initial values\n",
        "    self.balance = INITIAL_ACCOUNT_BALANCE\n",
        "    self.net_worth = INITIAL_ACCOUNT_BALANCE\n",
        "    self.max_net_worth = INITIAL_ACCOUNT_BALANCE\n",
        "    self.assets_held = 0\n",
        "    self.cost_basis = 0\n",
        "    self.total_assets_sold = 0\n",
        "    self.total_held_assets_value = 0\n",
        " \n",
        "    # Set the current step to a random point within the data frame\n",
        "    self.current_step = random.randint(0, len(self.df.loc[:, 'Open'].values) - 3)\n",
        "\n",
        "    print ('Present step is', self.current_step)\n",
        "print ('Initialization of environment and Reset functions done!')"
      ]
    },
    {
      "cell_type": "code",
      "execution_count": null,
      "metadata": {
        "id": "nb3Xeuhx8baX",
        "colab": {
          "base_uri": "https://localhost:8080/"
        },
        "outputId": "31266793-6a69-4d0e-c025-a18ece2b7db9"
      },
      "outputs": [
        {
          "output_type": "stream",
          "name": "stdout",
          "text": [
            "Next Observation and Step functions done!\n"
          ]
        }
      ],
      "source": [
        "def _next_observation(self):\n",
        "\n",
        "    # Get the data points for the last 5 days and scale to between 0-1\n",
        "      frame = np.array([self.df.loc[self.current_step: self.current_step + 5, 'Open'].values / MAX_SHARE_PRICE, \n",
        "                      self.df.loc[self.current_step: self.current_step + 5, 'High'].values / MAX_SHARE_PRICE,\n",
        "                      self.df.loc[self.current_step: self.current_step + 5, 'Low'].values / MAX_SHARE_PRICE,\n",
        "                      self.df.loc[self.current_step: self.current_step + 5, 'Close'].values / MAX_SHARE_PRICE,\n",
        "                      self.df.loc[self.current_step: self.current_step + 5, 'Volume'].values / MAX_NUM_SHARES,])\n",
        "  \n",
        "    # Append additional data and scale each value to between 0-1\n",
        "      obs = np.append(frame, [[self.balance / MAX_ACCOUNT_BALANCE, \n",
        "                             self.max_net_worth / MAX_ACCOUNT_BALANCE,\n",
        "                             self.shares_held / MAX_NUM_SHARES,\n",
        "                             self.cost_basis / MAX_SHARE_PRICE,\n",
        "                             self.total_shares_sold / MAX_NUM_SHARES,\n",
        "                             self.total_sales_value / (MAX_NUM_SHARES * MAX_SHARE_PRICE),]], axis=0)\n",
        "      print (obs)\n",
        "\n",
        "def  step(self, action):\n",
        "    \n",
        "    # Execute one time step within the environment\n",
        "      self._take_action(action)\n",
        "      self.current_step += 1\n",
        "      if self.current_step > len(self.df.loc[:, 'Open'].values) - 6:\n",
        "        self.current_step = 0\n",
        "      delay_modifier = (self.current_step / MAX_STEPS)\n",
        "  \n",
        "      reward = self.balance * delay_modifier\n",
        "      done = self.net_worth <= 0\n",
        "      obs = self._next_observation()\n",
        "      return obs, reward, done, {}\n",
        "\n",
        "print ('Next Observation and Step functions done!')"
      ]
    },
    {
      "cell_type": "code",
      "execution_count": null,
      "metadata": {
        "id": "ejvX4jtkEC6M",
        "colab": {
          "base_uri": "https://localhost:8080/"
        },
        "outputId": "16bc0ab1-32b3-453a-e3b7-b369fd6e1191"
      },
      "outputs": [
        {
          "output_type": "stream",
          "name": "stdout",
          "text": [
            "Take action and Enviroment Render functions done!\n"
          ]
        }
      ],
      "source": [
        "def _take_action(self, action):\n",
        "  \n",
        "    # Set the current price to a random price within the time step\n",
        "    current_price = random.uniform(\n",
        "    self.df.loc[self.current_step, \"Open\"],\n",
        "    self.df.loc[self.current_step, \"Close\"])\n",
        "    action_type = action[0]\n",
        "    amount = action[1]\n",
        "    if action_type < 1:\n",
        "   \n",
        "    # Calaculate % amount of balance to buy (of shares)\n",
        "      total_possible = self.balance / current_price\n",
        "      shares_bought = total_possible * amount\n",
        "      prev_cost = self.cost_basis * self.shares_held\n",
        "      additional_cost = shares_bought * current_price\n",
        "      self.balance -= additional_cost\n",
        "      self.cost_basis = (prev_cost + additional_cost) / (self.shares_held + shares_bought)\n",
        "      self.shares_held += shares_bought\n",
        "\n",
        "    elif action_type < 2:\n",
        "      \n",
        "    # Sell % amount of shares held\n",
        "      shares_sold = self.shares_held * amount\n",
        "      self.balance += shares_sold * current_price\n",
        "      self.shares_held -= shares_sold\n",
        "      self.total_shares_sold += shares_sold\n",
        "      self.total_sales_value += shares_sold * current_price\n",
        "      self.netWorth = self.balance + self.shares_held * current_price\n",
        "    if self.net_worth > self.max_net_worth:\n",
        "      self.max_net_worth = self.net_worth\n",
        "    if self.shares_held == 0:\n",
        "      self.cost_basis = 0\n",
        "\n",
        "def render (self, mode='human', close=False):\n",
        "        # Render the environment to the screen\n",
        "      profit = self.net_worth - INITIAL_ACCOUNT_BALANCE\n",
        "      print(f'Step: {self.current_step}')\n",
        "      print(f'Balance: {self.balance}')\n",
        "      print(f'Shares held: {self.shares_held} (Total sold: {self.total_shares_sold})')\n",
        "      print(f'Avg cost for held shares: {self.cost_basis} (Total sales value: {self.total_sales_value})')\n",
        "      print(f'Net worth: {self.net_worth} (Max net worth: {self.max_net_worth})')\n",
        "      print(f'Profit: {profit}')\n",
        "\n",
        "print ('Take action and Enviroment Render functions done!')"
      ]
    },
    {
      "cell_type": "code",
      "execution_count": null,
      "metadata": {
        "id": "KjCE2DCN7IgY"
      },
      "outputs": [],
      "source": [
        "class Env4StockTrading(gym.Env):\n",
        "  \"\"\"A trading environment for S&P500 Stocks in OpenAI gym\"\"\"\n",
        "  metadata = {'render.modes': ['human']}\n",
        "  \n",
        "  def __init__(self, df):\n",
        "    \n",
        "    # Initialize an instance of the trading enviroment\n",
        "    super(Env4StockTrading, self).__init__()\n",
        "    self.df = df\n",
        "    self.reward_range = (0, MAX_ACCOUNT_BALANCE) \n",
        "    \n",
        "    # Actions are Buy, Sell, Hold\n",
        "    self.action_space = spaces.Box(low=np.array([0, 0]), high=np.array([3, 1]), dtype=np.float16)\n",
        "    \n",
        "    # Price obs space contains the OHLCV values for the last five prices\n",
        "    self.observation_space = spaces.Box(low=0, high=1, shape=(6, 6), dtype=np.float16)\n",
        "\n",
        "    return self.action_space, self.observation_space\n",
        "    \n",
        "  def reset(self):\n",
        "    \n",
        "    # Reset the state and environment variables to initial values\n",
        "    self.balance = INITIAL_ACCOUNT_BALANCE\n",
        "    self.net_worth = INITIAL_ACCOUNT_BALANCE\n",
        "    self.max_net_worth = INITIAL_ACCOUNT_BALANCE\n",
        "    self.shares_held = 0\n",
        "    self.cost_basis = 0\n",
        "    self.total_shares_sold = 0\n",
        "    self.total_sales_value = 0\n",
        " \n",
        "    # Set the current step to a random point within the data frame\n",
        "    self.current_step = random.randint(0, len(self.df.loc[:, 'Open'].values) - 3)\n",
        "\n",
        "    print ('Present step is', self.current_step)\n",
        "    return self._next_observation()\n",
        "\n",
        "  def _next_observation(self):\n",
        "\n",
        "    # Get the data points for the last 5 days and scale to between 0-1\n",
        "    frame = np.array([\n",
        "    self.df.loc[self.current_step: self.current_step +\n",
        "                5, 'Open'].values / MAX_SHARE_PRICE,\n",
        "    self.df.loc[self.current_step: self.current_step +\n",
        "                5, 'High'].values / MAX_SHARE_PRICE,\n",
        "    self.df.loc[self.current_step: self.current_step +\n",
        "                5, 'Low'].values / MAX_SHARE_PRICE,\n",
        "    self.df.loc[self.current_step: self.current_step +\n",
        "                5, 'Close'].values / MAX_SHARE_PRICE,\n",
        "    self.df.loc[self.current_step: self.current_step +\n",
        "                5, 'Volume'].values / MAX_NUM_SHARES,\n",
        "   ])\n",
        "  \n",
        "    # Append additional data and scale each value to between 0-1\n",
        "    obs = np.append(frame, [[\n",
        "    self.balance / MAX_ACCOUNT_BALANCE,\n",
        "    self.max_net_worth / MAX_ACCOUNT_BALANCE,\n",
        "    self.shares_held / MAX_NUM_SHARES,\n",
        "    self.cost_basis / MAX_SHARE_PRICE,\n",
        "    self.total_shares_sold / MAX_NUM_SHARES,\n",
        "    self.total_sales_value / (MAX_NUM_SHARES * MAX_SHARE_PRICE),\n",
        "  ]], axis=0)\n",
        "    print (obs)\n",
        "\n",
        "  def  step(self, action):\n",
        "    \n",
        "    # Execute one time step within the environment\n",
        "    self._take_action(action)\n",
        "    self.current_step += 1\n",
        "    if self.current_step > len(self.df.loc[:, 'Open'].values) - 6:\n",
        "      self.current_step = 0\n",
        "    delay_modifier = (self.current_step / MAX_STEPS)\n",
        "  \n",
        "    reward = self.balance * delay_modifier\n",
        "    done = self.net_worth <= 0\n",
        "    obs = self._next_observation()\n",
        "    return obs, reward, done, {}"
      ]
    },
    {
      "cell_type": "code",
      "execution_count": null,
      "metadata": {
        "id": "dx_knhMRsgU9"
      },
      "outputs": [],
      "source": [
        "  def _take_action(self, action):\n",
        "  \n",
        "    # Set the current price to a random price within the time step\n",
        "    current_price = random.uniform(\n",
        "    self.df.loc[self.current_step, \"Open\"],\n",
        "    self.df.loc[self.current_step, \"Close\"])\n",
        "    action_type = action[0]\n",
        "    amount = action[1]\n",
        "    if action_type < 1:\n",
        "   \n",
        "    # Calaculate % amount of balance to buy (of shares)\n",
        "      total_possible = self.balance / current_price\n",
        "      shares_bought = total_possible * amount\n",
        "      prev_cost = self.cost_basis * self.shares_held\n",
        "      additional_cost = shares_bought * current_price\n",
        "      self.balance -= additional_cost\n",
        "      self.cost_basis = (prev_cost + additional_cost) / (self.shares_held + shares_bought)\n",
        "      self.shares_held += shares_bought\n",
        "\n",
        "    elif action_type < 2:\n",
        "\n",
        "    # Sell % amount of shares held\n",
        "      shares_sold = self.shares_held * amount\n",
        "      self.balance += shares_sold * current_price\n",
        "      self.shares_held -= shares_sold\n",
        "      self.total_shares_sold += shares_sold\n",
        "      self.total_sales_value += shares_sold * current_price\n",
        "      self.netWorth = self.balance + self.shares_held * current_price\n",
        "    if self.net_worth > self.max_net_worth:\n",
        "      self.max_net_worth = self.net_worth\n",
        "    if self.shares_held == 0:\n",
        "      self.cost_basis = 0\n",
        "\n",
        "def render (self, mode='human', close=False):\n",
        "  # mode='human', close=False):\n",
        "  # Render the environment to the screen\n",
        "    profit = self.net_worth - INITIAL_ACCOUNT_BALANCE\n",
        "    print(f'Step: {self.current_step}')\n",
        "    print(f'Balance: {self.balance}')\n",
        "    print(f'Shares held: {self.shares_held} (Total sold: {self.total_shares_sold})')\n",
        "    print(f'Avg cost for held shares: {self.cost_basis} (Total sales value: {self.total_sales_value})')\n",
        "    print(f'Net worth: {self.net_worth} (Max net worth: {self.max_net_worth})')\n",
        "    print(f'Profit: {profit}')"
      ]
    },
    {
      "cell_type": "code",
      "execution_count": null,
      "metadata": {
        "id": "NocjA5MZtCX4"
      },
      "outputs": [],
      "source": [
        "from stable_baselines.common.vec_env.dummy_vec_env import DummyVecEnv\n",
        "\n",
        "#import gym\n",
        "import json\n",
        "import datetime as dt\n",
        "from stable_baselines import PPO2\n",
        "from stable_baselines.common.vec_env import DummyVecEnv\n",
        "#from stable_baselines.common import make_vec_env\n",
        "from stable_baselines.common.policies import MlpPolicy\n",
        "from matplotlib import pyplot as plt\n",
        "from gym import envs\n",
        "\n",
        "import pandas as pd\n",
        "from gym_anytrading.datasets import STOCKS_GOOGL\n",
        "\n",
        "# Initialize a vectorized environment\n",
        "df = STOCKS_GOOGL\n",
        "env = DummyVecEnv([lambda: Env4StockTrading(df)])\n",
        "#env = DummyVecEnv(Env4StockTrading(df))\n",
        "\n",
        "model = PPO2(MlpPolicy, env, verbose=1)\n",
        "model.learn(total_timesteps=10000)\n",
        "model.save(\"ppo_StockTrade\")\n",
        "\n",
        "obs = env.reset()\n",
        "#for i in range(2000):\n",
        "  #action, _states = model.predict(obs)\n",
        "  #obs, rewards, done, info = env.step(action)\n",
        "  #env.render()"
      ]
    }
  ],
  "metadata": {
    "colab": {
      "provenance": [],
      "authorship_tag": "ABX9TyMotFeYr2LKjH45yFXoMVNC",
      "include_colab_link": true
    },
    "kernelspec": {
      "display_name": "Python 3",
      "name": "python3"
    },
    "language_info": {
      "name": "python"
    }
  },
  "nbformat": 4,
  "nbformat_minor": 0
}