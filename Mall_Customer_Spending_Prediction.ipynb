{
  "nbformat": 4,
  "nbformat_minor": 0,
  "metadata": {
    "colab": {
      "provenance": [],
      "authorship_tag": "ABX9TyN6yD814iNlN1BP4kSLEFRC",
      "include_colab_link": true
    },
    "kernelspec": {
      "name": "python3",
      "display_name": "Python 3"
    },
    "language_info": {
      "name": "python"
    }
  },
  "cells": [
    {
      "cell_type": "markdown",
      "metadata": {
        "id": "view-in-github",
        "colab_type": "text"
      },
      "source": [
        "<a href=\"https://colab.research.google.com/github/BeesieJF/BeesieJF/blob/main/Mall_Customer_Spending_Prediction.ipynb\" target=\"_parent\"><img src=\"https://colab.research.google.com/assets/colab-badge.svg\" alt=\"Open In Colab\"/></a>"
      ]
    },
    {
      "cell_type": "markdown",
      "source": [
        "# A Mall Customer Dataset being used to predict the total amount a customer will spend (per month) at the Mall."
      ],
      "metadata": {
        "id": "ytbAJb3M6Fav"
      }
    },
    {
      "cell_type": "code",
      "execution_count": 2,
      "metadata": {
        "id": "r78riRVQ0a0r"
      },
      "outputs": [],
      "source": [
        "# importing the libraries\n",
        "import pandas as pd\n",
        "import numpy as np"
      ]
    },
    {
      "cell_type": "code",
      "source": [
        "# choose and load dataset from a local drive\n",
        "from google.colab import files\n",
        "CustomerFile = files.upload()"
      ],
      "metadata": {
        "id": "7LUOJnBADHpC"
      },
      "execution_count": null,
      "outputs": []
    },
    {
      "cell_type": "code",
      "source": [
        "Customerdata = pd.read_csv('Mall_Customers.csv')\n",
        "print (Customerdata)"
      ],
      "metadata": {
        "id": "P3-1KhAUD0sW"
      },
      "execution_count": null,
      "outputs": []
    },
    {
      "cell_type": "code",
      "source": [
        "# Gender and Amount columns were converted to boolean values\n",
        "# F = 1; M = 0; < 40 = 0; > 40 = 1\n",
        "# Summarize the data\n",
        "print (Customerdata.shape)\n",
        "print (Customerdata.head(5))"
      ],
      "metadata": {
        "id": "tUm-YzQKFQlq"
      },
      "execution_count": null,
      "outputs": []
    },
    {
      "cell_type": "code",
      "source": [
        "Customerdata.drop(columns='CustomerID', axis=1, inplace=True)\n",
        "Customerdata.drop(columns='Gender', axis=1, inplace=True)\n",
        "X = Customerdata.iloc[:,:-2].values\n",
        "print(X)\n",
        "Y = Customerdata.iloc[:,-1].values\n",
        "print(Y)"
      ],
      "metadata": {
        "id": "x_PVbY7RGEpD"
      },
      "execution_count": null,
      "outputs": []
    },
    {
      "cell_type": "code",
      "source": [
        "# Splitting dataset into train\n",
        "from sklearn.model_selection import train_test_split\n",
        "X_train, X_test, Y_train, Y_test = train_test_split(X, Y, test_size=0.25, random_state=0)"
      ],
      "metadata": {
        "id": "qXGxKsJLKs7p"
      },
      "execution_count": 8,
      "outputs": []
    },
    {
      "cell_type": "code",
      "source": [
        "from sklearn.linear_model import LogisticRegression\n",
        "model = LogisticRegression()\n",
        "model.fit(X_train, Y_train)"
      ],
      "metadata": {
        "id": "IGwLLToFM-a5"
      },
      "execution_count": null,
      "outputs": []
    },
    {
      "cell_type": "code",
      "source": [
        "# predict and test against actual data\n",
        "from sklearn.metrics import accuracy_score\n",
        "y_pred = model.predict(X_test)\n",
        "print(\"Accuracy of the model:{0}%\".format(accuracy_score(Y_test,y_pred)*100))"
      ],
      "metadata": {
        "id": "yvm5C3U2JSor"
      },
      "execution_count": null,
      "outputs": []
    },
    {
      "cell_type": "code",
      "source": [
        "age=int(input(\"Enter customer's age: \"))\n",
        "sal=int(input(\"Enter customer's annual salary USD ('000): \"))\n",
        "sex=bool(input(\"Enter 1 if customer is FEMALE or 0 if MALE: \"))\n",
        "newCust = [[sex, age, sal]]\n",
        "newCust_Spending = model.predict(newCust)\n",
        "print(newCust_Spending)\n",
        "if newCust_Spending == 1:\n",
        "  print(\"Customer will spend 40,000USD and above monthly\")\n",
        "else:\n",
        "  print(\"Customer will spend less than 40,000USD monthly\")"
      ],
      "metadata": {
        "id": "dAnyLR9wnjA3"
      },
      "execution_count": null,
      "outputs": []
    }
  ]
}