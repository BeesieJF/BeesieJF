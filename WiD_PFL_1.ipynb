{
  "cells": [
    {
      "cell_type": "markdown",
      "metadata": {
        "id": "view-in-github",
        "colab_type": "text"
      },
      "source": [
        "<a href=\"https://colab.research.google.com/github/BeesieJF/BeesieJF/blob/main/WiD_PFL_1.ipynb\" target=\"_parent\"><img src=\"https://colab.research.google.com/assets/colab-badge.svg\" alt=\"Open In Colab\"/></a>"
      ]
    },
    {
      "cell_type": "markdown",
      "id": "884328fe",
      "metadata": {
        "id": "884328fe"
      },
      "source": [
        "# PAID FAMILY LEAVE AND WORKPLACE INEQUALITY\n",
        "\n",
        "![](https://www.commondreams.org/sites/default/files/styles/banner_image_1x_xl/public/2022-09/Paid-Leave-Getty_0.jpg.webp?h=55058666&itok=r9JKzq9V)"
      ]
    },
    {
      "cell_type": "markdown",
      "id": "701aa7d7",
      "metadata": {
        "id": "701aa7d7"
      },
      "source": [
        "## INTRODUCTION:\n",
        "\n",
        "**Paid Family Leave(PFL)** is an employee funded benefit program aimed to provide wage replacement (a percentage of one's income) to eligible workers that take time off work to:\n",
        "- bond with a newborn baby, adopted or foster child and/or\n",
        "- care for a seriously ill spouse, child or family members\n",
        "\n",
        "Paid Family Leave is a benefit that often includes paid leave benefits for childbirth, childcare, caregiving, adoption, and more.\n",
        "\n",
        "**Unpaid Parental or Family Leave** is provided when an employer is required to hold an employee's job while the employer is on leave. \n",
        "\n",
        "This report aims to use the dataset to analyze the relationship between paid family leave and gender equality in the workplace, to determine countries with paid family leave, the length of leave days available to women and if there are options of leave benefits as well for fathers."
      ]
    },
    {
      "cell_type": "markdown",
      "id": "0c26844e",
      "metadata": {
        "id": "0c26844e"
      },
      "source": [
        "### Questions of Interest\n",
        "- How does Paid Family Leave (PFL) differ around the world? \n",
        "\n",
        "- How does PFL vary by geography, industry, gender, role?\n",
        "\n",
        "- What are the varying impacts of different Paid Family Leave policies? \n",
        "\n",
        "- How have these PFL policies changed over time?\n",
        "\n",
        "- What impact does Paid Family Leave have on the overall gender gap in the workplace?\n",
        "\n",
        "- Does Unpaid leave have any effect on Workplace Inequality?\n",
        "\n",
        "- What impact will gender-neutral paid leave policies have on Workplace Inequality? "
      ]
    },
    {
      "cell_type": "code",
      "execution_count": 1,
      "id": "2c690e36",
      "metadata": {
        "id": "2c690e36"
      },
      "outputs": [],
      "source": [
        "# Import all the relevant packages\n",
        "import numpy as np # for linear algebra\n",
        "import pandas as pd # for data manipulation and analysis\n",
        "\n",
        "import plotly.express as px\n",
        "import plotly.graph_objects as go\n",
        "import seaborn as sns # for data visualization and plots\n",
        "import matplotlib.pyplot as plt\n",
        "%matplotlib inline"
      ]
    },
    {
      "cell_type": "code",
      "source": [
        "pip install celluloid"
      ],
      "metadata": {
        "id": "MpSy8vLfalFf",
        "colab": {
          "base_uri": "https://localhost:8080/"
        },
        "outputId": "51dbe4fd-bea9-472d-ac53-bfa1ae093305"
      },
      "execution_count": 2,
      "outputs": [
        {
          "output_type": "stream",
          "name": "stdout",
          "text": [
            "Looking in indexes: https://pypi.org/simple, https://us-python.pkg.dev/colab-wheels/public/simple/\n",
            "Collecting celluloid\n",
            "  Downloading celluloid-0.2.0-py3-none-any.whl (5.4 kB)\n",
            "Requirement already satisfied: matplotlib in /usr/local/lib/python3.7/dist-packages (from celluloid) (3.2.2)\n",
            "Requirement already satisfied: numpy>=1.11 in /usr/local/lib/python3.7/dist-packages (from matplotlib->celluloid) (1.21.6)\n",
            "Requirement already satisfied: pyparsing!=2.0.4,!=2.1.2,!=2.1.6,>=2.0.1 in /usr/local/lib/python3.7/dist-packages (from matplotlib->celluloid) (3.0.9)\n",
            "Requirement already satisfied: kiwisolver>=1.0.1 in /usr/local/lib/python3.7/dist-packages (from matplotlib->celluloid) (1.4.4)\n",
            "Requirement already satisfied: cycler>=0.10 in /usr/local/lib/python3.7/dist-packages (from matplotlib->celluloid) (0.11.0)\n",
            "Requirement already satisfied: python-dateutil>=2.1 in /usr/local/lib/python3.7/dist-packages (from matplotlib->celluloid) (2.8.2)\n",
            "Requirement already satisfied: typing-extensions in /usr/local/lib/python3.7/dist-packages (from kiwisolver>=1.0.1->matplotlib->celluloid) (4.1.1)\n",
            "Requirement already satisfied: six>=1.5 in /usr/local/lib/python3.7/dist-packages (from python-dateutil>=2.1->matplotlib->celluloid) (1.15.0)\n",
            "Installing collected packages: celluloid\n",
            "Successfully installed celluloid-0.2.0\n"
          ]
        }
      ],
      "id": "MpSy8vLfalFf"
    },
    {
      "cell_type": "code",
      "source": [
        "# Check it worked\n",
        "import celluloid\n",
        "import io"
      ],
      "metadata": {
        "id": "GgR4XGMtalRU"
      },
      "id": "GgR4XGMtalRU",
      "execution_count": 3,
      "outputs": []
    },
    {
      "cell_type": "code",
      "source": [
        "# loading files\n",
        "from google.colab import files"
      ],
      "metadata": {
        "id": "sN7W4TgJayr7"
      },
      "id": "sN7W4TgJayr7",
      "execution_count": 4,
      "outputs": []
    },
    {
      "cell_type": "code",
      "source": [
        "# To access files, you have to connect your drive to the notebook"
      ],
      "metadata": {
        "id": "ozLzAKi8cCug"
      },
      "id": "ozLzAKi8cCug",
      "execution_count": null,
      "outputs": []
    },
    {
      "cell_type": "code",
      "source": [
        "from google.colab import drive\n",
        "drive.mount('/content/drive')"
      ],
      "metadata": {
        "colab": {
          "base_uri": "https://localhost:8080/"
        },
        "id": "aGXPPrGKay3x",
        "outputId": "b88e251d-8247-406e-a6dc-a7e317cfd179"
      },
      "id": "aGXPPrGKay3x",
      "execution_count": 5,
      "outputs": [
        {
          "output_type": "stream",
          "name": "stdout",
          "text": [
            "Mounted at /content/drive\n"
          ]
        }
      ]
    },
    {
      "cell_type": "code",
      "source": [
        "# To upload files\n",
        "uploaded = files.upload()"
      ],
      "metadata": {
        "id": "G1I3UQznP95s",
        "colab": {
          "base_uri": "https://localhost:8080/",
          "height": 73
        },
        "outputId": "eb75a59a-6f43-48ef-ab1d-0e625c26cd1d"
      },
      "execution_count": 16,
      "outputs": [
        {
          "output_type": "display_data",
          "data": {
            "text/plain": [
              "<IPython.core.display.HTML object>"
            ],
            "text/html": [
              "\n",
              "     <input type=\"file\" id=\"files-7cef009b-6acf-4b11-815a-eda19ca1dda2\" name=\"files[]\" multiple disabled\n",
              "        style=\"border:none\" />\n",
              "     <output id=\"result-7cef009b-6acf-4b11-815a-eda19ca1dda2\">\n",
              "      Upload widget is only available when the cell has been executed in the\n",
              "      current browser session. Please rerun this cell to enable.\n",
              "      </output>\n",
              "      <script>// Copyright 2017 Google LLC\n",
              "//\n",
              "// Licensed under the Apache License, Version 2.0 (the \"License\");\n",
              "// you may not use this file except in compliance with the License.\n",
              "// You may obtain a copy of the License at\n",
              "//\n",
              "//      http://www.apache.org/licenses/LICENSE-2.0\n",
              "//\n",
              "// Unless required by applicable law or agreed to in writing, software\n",
              "// distributed under the License is distributed on an \"AS IS\" BASIS,\n",
              "// WITHOUT WARRANTIES OR CONDITIONS OF ANY KIND, either express or implied.\n",
              "// See the License for the specific language governing permissions and\n",
              "// limitations under the License.\n",
              "\n",
              "/**\n",
              " * @fileoverview Helpers for google.colab Python module.\n",
              " */\n",
              "(function(scope) {\n",
              "function span(text, styleAttributes = {}) {\n",
              "  const element = document.createElement('span');\n",
              "  element.textContent = text;\n",
              "  for (const key of Object.keys(styleAttributes)) {\n",
              "    element.style[key] = styleAttributes[key];\n",
              "  }\n",
              "  return element;\n",
              "}\n",
              "\n",
              "// Max number of bytes which will be uploaded at a time.\n",
              "const MAX_PAYLOAD_SIZE = 100 * 1024;\n",
              "\n",
              "function _uploadFiles(inputId, outputId) {\n",
              "  const steps = uploadFilesStep(inputId, outputId);\n",
              "  const outputElement = document.getElementById(outputId);\n",
              "  // Cache steps on the outputElement to make it available for the next call\n",
              "  // to uploadFilesContinue from Python.\n",
              "  outputElement.steps = steps;\n",
              "\n",
              "  return _uploadFilesContinue(outputId);\n",
              "}\n",
              "\n",
              "// This is roughly an async generator (not supported in the browser yet),\n",
              "// where there are multiple asynchronous steps and the Python side is going\n",
              "// to poll for completion of each step.\n",
              "// This uses a Promise to block the python side on completion of each step,\n",
              "// then passes the result of the previous step as the input to the next step.\n",
              "function _uploadFilesContinue(outputId) {\n",
              "  const outputElement = document.getElementById(outputId);\n",
              "  const steps = outputElement.steps;\n",
              "\n",
              "  const next = steps.next(outputElement.lastPromiseValue);\n",
              "  return Promise.resolve(next.value.promise).then((value) => {\n",
              "    // Cache the last promise value to make it available to the next\n",
              "    // step of the generator.\n",
              "    outputElement.lastPromiseValue = value;\n",
              "    return next.value.response;\n",
              "  });\n",
              "}\n",
              "\n",
              "/**\n",
              " * Generator function which is called between each async step of the upload\n",
              " * process.\n",
              " * @param {string} inputId Element ID of the input file picker element.\n",
              " * @param {string} outputId Element ID of the output display.\n",
              " * @return {!Iterable<!Object>} Iterable of next steps.\n",
              " */\n",
              "function* uploadFilesStep(inputId, outputId) {\n",
              "  const inputElement = document.getElementById(inputId);\n",
              "  inputElement.disabled = false;\n",
              "\n",
              "  const outputElement = document.getElementById(outputId);\n",
              "  outputElement.innerHTML = '';\n",
              "\n",
              "  const pickedPromise = new Promise((resolve) => {\n",
              "    inputElement.addEventListener('change', (e) => {\n",
              "      resolve(e.target.files);\n",
              "    });\n",
              "  });\n",
              "\n",
              "  const cancel = document.createElement('button');\n",
              "  inputElement.parentElement.appendChild(cancel);\n",
              "  cancel.textContent = 'Cancel upload';\n",
              "  const cancelPromise = new Promise((resolve) => {\n",
              "    cancel.onclick = () => {\n",
              "      resolve(null);\n",
              "    };\n",
              "  });\n",
              "\n",
              "  // Wait for the user to pick the files.\n",
              "  const files = yield {\n",
              "    promise: Promise.race([pickedPromise, cancelPromise]),\n",
              "    response: {\n",
              "      action: 'starting',\n",
              "    }\n",
              "  };\n",
              "\n",
              "  cancel.remove();\n",
              "\n",
              "  // Disable the input element since further picks are not allowed.\n",
              "  inputElement.disabled = true;\n",
              "\n",
              "  if (!files) {\n",
              "    return {\n",
              "      response: {\n",
              "        action: 'complete',\n",
              "      }\n",
              "    };\n",
              "  }\n",
              "\n",
              "  for (const file of files) {\n",
              "    const li = document.createElement('li');\n",
              "    li.append(span(file.name, {fontWeight: 'bold'}));\n",
              "    li.append(span(\n",
              "        `(${file.type || 'n/a'}) - ${file.size} bytes, ` +\n",
              "        `last modified: ${\n",
              "            file.lastModifiedDate ? file.lastModifiedDate.toLocaleDateString() :\n",
              "                                    'n/a'} - `));\n",
              "    const percent = span('0% done');\n",
              "    li.appendChild(percent);\n",
              "\n",
              "    outputElement.appendChild(li);\n",
              "\n",
              "    const fileDataPromise = new Promise((resolve) => {\n",
              "      const reader = new FileReader();\n",
              "      reader.onload = (e) => {\n",
              "        resolve(e.target.result);\n",
              "      };\n",
              "      reader.readAsArrayBuffer(file);\n",
              "    });\n",
              "    // Wait for the data to be ready.\n",
              "    let fileData = yield {\n",
              "      promise: fileDataPromise,\n",
              "      response: {\n",
              "        action: 'continue',\n",
              "      }\n",
              "    };\n",
              "\n",
              "    // Use a chunked sending to avoid message size limits. See b/62115660.\n",
              "    let position = 0;\n",
              "    do {\n",
              "      const length = Math.min(fileData.byteLength - position, MAX_PAYLOAD_SIZE);\n",
              "      const chunk = new Uint8Array(fileData, position, length);\n",
              "      position += length;\n",
              "\n",
              "      const base64 = btoa(String.fromCharCode.apply(null, chunk));\n",
              "      yield {\n",
              "        response: {\n",
              "          action: 'append',\n",
              "          file: file.name,\n",
              "          data: base64,\n",
              "        },\n",
              "      };\n",
              "\n",
              "      let percentDone = fileData.byteLength === 0 ?\n",
              "          100 :\n",
              "          Math.round((position / fileData.byteLength) * 100);\n",
              "      percent.textContent = `${percentDone}% done`;\n",
              "\n",
              "    } while (position < fileData.byteLength);\n",
              "  }\n",
              "\n",
              "  // All done.\n",
              "  yield {\n",
              "    response: {\n",
              "      action: 'complete',\n",
              "    }\n",
              "  };\n",
              "}\n",
              "\n",
              "scope.google = scope.google || {};\n",
              "scope.google.colab = scope.google.colab || {};\n",
              "scope.google.colab._files = {\n",
              "  _uploadFiles,\n",
              "  _uploadFilesContinue,\n",
              "};\n",
              "})(self);\n",
              "</script> "
            ]
          },
          "metadata": {}
        },
        {
          "output_type": "stream",
          "name": "stdout",
          "text": [
            "Saving happiness.csv to happiness.csv\n"
          ]
        }
      ],
      "id": "G1I3UQznP95s"
    },
    {
      "cell_type": "markdown",
      "id": "ce4b997b",
      "metadata": {
        "id": "ce4b997b"
      },
      "source": [
        "### Methodology (Part 1):\n",
        "- Read in the dataset to be used\n",
        "- Convert the column 'Is there paid parental leave?' into a binary column\n",
        "- Do some basic analysis\n",
        "- One hot encode some categorical variables"
      ]
    },
    {
      "cell_type": "code",
      "execution_count": 7,
      "id": "f7e52fae",
      "metadata": {
        "id": "f7e52fae",
        "colab": {
          "base_uri": "https://localhost:8080/",
          "height": 751
        },
        "outputId": "47b7586b-c5b8-4d47-8248-7123dab9230e"
      },
      "outputs": [
        {
          "output_type": "execute_result",
          "data": {
            "text/plain": [
              "       Economy Economy Code ISO Code      Region Income Group  Report Year  \\\n",
              "0  Afghanistan          AFG      AFG  South Asia   Low income         1971   \n",
              "1  Afghanistan          AFG      AFG  South Asia   Low income         1972   \n",
              "2  Afghanistan          AFG      AFG  South Asia   Low income         1973   \n",
              "3  Afghanistan          AFG      AFG  South Asia   Low income         1974   \n",
              "4  Afghanistan          AFG      AFG  South Asia   Low income         1975   \n",
              "\n",
              "   PARENTHOOD SCORE Is paid leave of at least 14 weeks available to mothers?  \\\n",
              "0                 0                                                 No         \n",
              "1                 0                                                 No         \n",
              "2                 0                                                 No         \n",
              "3                 0                                                 No         \n",
              "4                 0                                                 No         \n",
              "\n",
              "   Score                                Legal Basis  ...  \\\n",
              "0      0  No applicable provisions could be located  ...   \n",
              "1      0  No applicable provisions could be located  ...   \n",
              "2      0  No applicable provisions could be located  ...   \n",
              "3      0  No applicable provisions could be located  ...   \n",
              "4      0  No applicable provisions could be located  ...   \n",
              "\n",
              "   Length of paid paternity leave Is there paid parental leave?  Score.3  \\\n",
              "0                               0                            No        0   \n",
              "1                               0                            No        0   \n",
              "2                               0                            No        0   \n",
              "3                               0                            No        0   \n",
              "4                               0                            No        0   \n",
              "\n",
              "                               Legal Basis.3 Shared days  Days for the mother  \\\n",
              "0  No applicable provisions could be located           0                    0   \n",
              "1  No applicable provisions could be located           0                    0   \n",
              "2  No applicable provisions could be located           0                    0   \n",
              "3  No applicable provisions could be located           0                    0   \n",
              "4  No applicable provisions could be located           0                    0   \n",
              "\n",
              "  Days for the father  Is dismissal of pregnant workers prohibited? Score.4  \\\n",
              "0                   0                                            No       0   \n",
              "1                   0                                            No       0   \n",
              "2                   0                                            No       0   \n",
              "3                   0                                            No       0   \n",
              "4                   0                                            No       0   \n",
              "\n",
              "                               Legal Basis.4  \n",
              "0  No applicable provisions could be located  \n",
              "1  No applicable provisions could be located  \n",
              "2  No applicable provisions could be located  \n",
              "3  No applicable provisions could be located  \n",
              "4  No applicable provisions could be located  \n",
              "\n",
              "[5 rows x 27 columns]"
            ],
            "text/html": [
              "\n",
              "  <div id=\"df-801e1f10-612f-46fc-b413-e361610ba563\">\n",
              "    <div class=\"colab-df-container\">\n",
              "      <div>\n",
              "<style scoped>\n",
              "    .dataframe tbody tr th:only-of-type {\n",
              "        vertical-align: middle;\n",
              "    }\n",
              "\n",
              "    .dataframe tbody tr th {\n",
              "        vertical-align: top;\n",
              "    }\n",
              "\n",
              "    .dataframe thead th {\n",
              "        text-align: right;\n",
              "    }\n",
              "</style>\n",
              "<table border=\"1\" class=\"dataframe\">\n",
              "  <thead>\n",
              "    <tr style=\"text-align: right;\">\n",
              "      <th></th>\n",
              "      <th>Economy</th>\n",
              "      <th>Economy Code</th>\n",
              "      <th>ISO Code</th>\n",
              "      <th>Region</th>\n",
              "      <th>Income Group</th>\n",
              "      <th>Report Year</th>\n",
              "      <th>PARENTHOOD SCORE</th>\n",
              "      <th>Is paid leave of at least 14 weeks available to mothers?</th>\n",
              "      <th>Score</th>\n",
              "      <th>Legal Basis</th>\n",
              "      <th>...</th>\n",
              "      <th>Length of paid paternity leave</th>\n",
              "      <th>Is there paid parental leave?</th>\n",
              "      <th>Score.3</th>\n",
              "      <th>Legal Basis.3</th>\n",
              "      <th>Shared days</th>\n",
              "      <th>Days for the mother</th>\n",
              "      <th>Days for the father</th>\n",
              "      <th>Is dismissal of pregnant workers prohibited?</th>\n",
              "      <th>Score.4</th>\n",
              "      <th>Legal Basis.4</th>\n",
              "    </tr>\n",
              "  </thead>\n",
              "  <tbody>\n",
              "    <tr>\n",
              "      <th>0</th>\n",
              "      <td>Afghanistan</td>\n",
              "      <td>AFG</td>\n",
              "      <td>AFG</td>\n",
              "      <td>South Asia</td>\n",
              "      <td>Low income</td>\n",
              "      <td>1971</td>\n",
              "      <td>0</td>\n",
              "      <td>No</td>\n",
              "      <td>0</td>\n",
              "      <td>No applicable provisions could be located</td>\n",
              "      <td>...</td>\n",
              "      <td>0</td>\n",
              "      <td>No</td>\n",
              "      <td>0</td>\n",
              "      <td>No applicable provisions could be located</td>\n",
              "      <td>0</td>\n",
              "      <td>0</td>\n",
              "      <td>0</td>\n",
              "      <td>No</td>\n",
              "      <td>0</td>\n",
              "      <td>No applicable provisions could be located</td>\n",
              "    </tr>\n",
              "    <tr>\n",
              "      <th>1</th>\n",
              "      <td>Afghanistan</td>\n",
              "      <td>AFG</td>\n",
              "      <td>AFG</td>\n",
              "      <td>South Asia</td>\n",
              "      <td>Low income</td>\n",
              "      <td>1972</td>\n",
              "      <td>0</td>\n",
              "      <td>No</td>\n",
              "      <td>0</td>\n",
              "      <td>No applicable provisions could be located</td>\n",
              "      <td>...</td>\n",
              "      <td>0</td>\n",
              "      <td>No</td>\n",
              "      <td>0</td>\n",
              "      <td>No applicable provisions could be located</td>\n",
              "      <td>0</td>\n",
              "      <td>0</td>\n",
              "      <td>0</td>\n",
              "      <td>No</td>\n",
              "      <td>0</td>\n",
              "      <td>No applicable provisions could be located</td>\n",
              "    </tr>\n",
              "    <tr>\n",
              "      <th>2</th>\n",
              "      <td>Afghanistan</td>\n",
              "      <td>AFG</td>\n",
              "      <td>AFG</td>\n",
              "      <td>South Asia</td>\n",
              "      <td>Low income</td>\n",
              "      <td>1973</td>\n",
              "      <td>0</td>\n",
              "      <td>No</td>\n",
              "      <td>0</td>\n",
              "      <td>No applicable provisions could be located</td>\n",
              "      <td>...</td>\n",
              "      <td>0</td>\n",
              "      <td>No</td>\n",
              "      <td>0</td>\n",
              "      <td>No applicable provisions could be located</td>\n",
              "      <td>0</td>\n",
              "      <td>0</td>\n",
              "      <td>0</td>\n",
              "      <td>No</td>\n",
              "      <td>0</td>\n",
              "      <td>No applicable provisions could be located</td>\n",
              "    </tr>\n",
              "    <tr>\n",
              "      <th>3</th>\n",
              "      <td>Afghanistan</td>\n",
              "      <td>AFG</td>\n",
              "      <td>AFG</td>\n",
              "      <td>South Asia</td>\n",
              "      <td>Low income</td>\n",
              "      <td>1974</td>\n",
              "      <td>0</td>\n",
              "      <td>No</td>\n",
              "      <td>0</td>\n",
              "      <td>No applicable provisions could be located</td>\n",
              "      <td>...</td>\n",
              "      <td>0</td>\n",
              "      <td>No</td>\n",
              "      <td>0</td>\n",
              "      <td>No applicable provisions could be located</td>\n",
              "      <td>0</td>\n",
              "      <td>0</td>\n",
              "      <td>0</td>\n",
              "      <td>No</td>\n",
              "      <td>0</td>\n",
              "      <td>No applicable provisions could be located</td>\n",
              "    </tr>\n",
              "    <tr>\n",
              "      <th>4</th>\n",
              "      <td>Afghanistan</td>\n",
              "      <td>AFG</td>\n",
              "      <td>AFG</td>\n",
              "      <td>South Asia</td>\n",
              "      <td>Low income</td>\n",
              "      <td>1975</td>\n",
              "      <td>0</td>\n",
              "      <td>No</td>\n",
              "      <td>0</td>\n",
              "      <td>No applicable provisions could be located</td>\n",
              "      <td>...</td>\n",
              "      <td>0</td>\n",
              "      <td>No</td>\n",
              "      <td>0</td>\n",
              "      <td>No applicable provisions could be located</td>\n",
              "      <td>0</td>\n",
              "      <td>0</td>\n",
              "      <td>0</td>\n",
              "      <td>No</td>\n",
              "      <td>0</td>\n",
              "      <td>No applicable provisions could be located</td>\n",
              "    </tr>\n",
              "  </tbody>\n",
              "</table>\n",
              "<p>5 rows × 27 columns</p>\n",
              "</div>\n",
              "      <button class=\"colab-df-convert\" onclick=\"convertToInteractive('df-801e1f10-612f-46fc-b413-e361610ba563')\"\n",
              "              title=\"Convert this dataframe to an interactive table.\"\n",
              "              style=\"display:none;\">\n",
              "        \n",
              "  <svg xmlns=\"http://www.w3.org/2000/svg\" height=\"24px\"viewBox=\"0 0 24 24\"\n",
              "       width=\"24px\">\n",
              "    <path d=\"M0 0h24v24H0V0z\" fill=\"none\"/>\n",
              "    <path d=\"M18.56 5.44l.94 2.06.94-2.06 2.06-.94-2.06-.94-.94-2.06-.94 2.06-2.06.94zm-11 1L8.5 8.5l.94-2.06 2.06-.94-2.06-.94L8.5 2.5l-.94 2.06-2.06.94zm10 10l.94 2.06.94-2.06 2.06-.94-2.06-.94-.94-2.06-.94 2.06-2.06.94z\"/><path d=\"M17.41 7.96l-1.37-1.37c-.4-.4-.92-.59-1.43-.59-.52 0-1.04.2-1.43.59L10.3 9.45l-7.72 7.72c-.78.78-.78 2.05 0 2.83L4 21.41c.39.39.9.59 1.41.59.51 0 1.02-.2 1.41-.59l7.78-7.78 2.81-2.81c.8-.78.8-2.07 0-2.86zM5.41 20L4 18.59l7.72-7.72 1.47 1.35L5.41 20z\"/>\n",
              "  </svg>\n",
              "      </button>\n",
              "      \n",
              "  <style>\n",
              "    .colab-df-container {\n",
              "      display:flex;\n",
              "      flex-wrap:wrap;\n",
              "      gap: 12px;\n",
              "    }\n",
              "\n",
              "    .colab-df-convert {\n",
              "      background-color: #E8F0FE;\n",
              "      border: none;\n",
              "      border-radius: 50%;\n",
              "      cursor: pointer;\n",
              "      display: none;\n",
              "      fill: #1967D2;\n",
              "      height: 32px;\n",
              "      padding: 0 0 0 0;\n",
              "      width: 32px;\n",
              "    }\n",
              "\n",
              "    .colab-df-convert:hover {\n",
              "      background-color: #E2EBFA;\n",
              "      box-shadow: 0px 1px 2px rgba(60, 64, 67, 0.3), 0px 1px 3px 1px rgba(60, 64, 67, 0.15);\n",
              "      fill: #174EA6;\n",
              "    }\n",
              "\n",
              "    [theme=dark] .colab-df-convert {\n",
              "      background-color: #3B4455;\n",
              "      fill: #D2E3FC;\n",
              "    }\n",
              "\n",
              "    [theme=dark] .colab-df-convert:hover {\n",
              "      background-color: #434B5C;\n",
              "      box-shadow: 0px 1px 3px 1px rgba(0, 0, 0, 0.15);\n",
              "      filter: drop-shadow(0px 1px 2px rgba(0, 0, 0, 0.3));\n",
              "      fill: #FFFFFF;\n",
              "    }\n",
              "  </style>\n",
              "\n",
              "      <script>\n",
              "        const buttonEl =\n",
              "          document.querySelector('#df-801e1f10-612f-46fc-b413-e361610ba563 button.colab-df-convert');\n",
              "        buttonEl.style.display =\n",
              "          google.colab.kernel.accessAllowed ? 'block' : 'none';\n",
              "\n",
              "        async function convertToInteractive(key) {\n",
              "          const element = document.querySelector('#df-801e1f10-612f-46fc-b413-e361610ba563');\n",
              "          const dataTable =\n",
              "            await google.colab.kernel.invokeFunction('convertToInteractive',\n",
              "                                                     [key], {});\n",
              "          if (!dataTable) return;\n",
              "\n",
              "          const docLinkHtml = 'Like what you see? Visit the ' +\n",
              "            '<a target=\"_blank\" href=https://colab.research.google.com/notebooks/data_table.ipynb>data table notebook</a>'\n",
              "            + ' to learn more about interactive tables.';\n",
              "          element.innerHTML = '';\n",
              "          dataTable['output_type'] = 'display_data';\n",
              "          await google.colab.output.renderOutput(dataTable, element);\n",
              "          const docLink = document.createElement('div');\n",
              "          docLink.innerHTML = docLinkHtml;\n",
              "          element.appendChild(docLink);\n",
              "        }\n",
              "      </script>\n",
              "    </div>\n",
              "  </div>\n",
              "  "
            ]
          },
          "metadata": {},
          "execution_count": 7
        }
      ],
      "source": [
        "# Read in the data\n",
        "#df1 = pd.read_csv('/data/drive/MyDrive/happiness.csv', encoding='latin-1')\n",
        "#df2 = pd.read_csv('/data/drive/myDrive/paid_leave.csv', encoding='latin-1')\n",
        "df1 = pd.read_csv('/content/drive/MyDrive/WBL_leave_data.csv', encoding='latin-1')\n",
        "df1.head()\n",
        "#df2 = pd.read_csv('/content/drive/MyDrive/paid_leave.csv')\n",
        "#df2.head()"
      ]
    },
    {
      "cell_type": "code",
      "source": [
        "g = df1['Region'].unique()\n",
        "g\n"
      ],
      "metadata": {
        "colab": {
          "base_uri": "https://localhost:8080/"
        },
        "id": "Jau0Ypvxj5lB",
        "outputId": "b4903aa8-34a4-405e-ab4d-771034f195da"
      },
      "id": "Jau0Ypvxj5lB",
      "execution_count": 15,
      "outputs": [
        {
          "output_type": "execute_result",
          "data": {
            "text/plain": [
              "array(['South Asia', 'Europe & Central Asia',\n",
              "       'Middle East & North Africa', 'Sub-Saharan Africa',\n",
              "       'Latin America & Caribbean', 'High income: OECD',\n",
              "       'East Asia & Pacific'], dtype=object)"
            ]
          },
          "metadata": {},
          "execution_count": 15
        }
      ]
    },
    {
      "cell_type": "code",
      "source": [
        "(\n",
        "    df1\n",
        "    .groupby(\"Region\")\n",
        "    [\"Length of paid paternity leave\"].mean()\n",
        "    .sort_values(ascending=True)\n",
        "    .plot(\n",
        "        kind=\"bar\",\n",
        "        xlabel=\"Region\",\n",
        "        ylabel=\"Average Paid Paternity Leave\",\n",
        "        title=\"Regional Trend - Paternity Leave\"\n",
        "    )\n",
        ")   "
      ],
      "metadata": {
        "colab": {
          "base_uri": "https://localhost:8080/",
          "height": 437
        },
        "id": "vSBE8ojdccum",
        "outputId": "3795d4ed-466d-4fc6-fe66-e47b9103cc46"
      },
      "id": "vSBE8ojdccum",
      "execution_count": 9,
      "outputs": [
        {
          "output_type": "execute_result",
          "data": {
            "text/plain": [
              "<matplotlib.axes._subplots.AxesSubplot at 0x7ff0fc42ee90>"
            ]
          },
          "metadata": {},
          "execution_count": 9
        },
        {
          "output_type": "display_data",
          "data": {
            "text/plain": [
              "<Figure size 432x288 with 1 Axes>"
            ],
            "image/png": "[encoded data removed]"
          },
          "metadata": {
            "needs_background": "light"
          }
        }
      ]
    },
    {
      "cell_type": "code",
      "source": [
        "(\n",
        "    df1\n",
        "    .groupby(\"Region\")\n",
        "    [\"PARENTHOOD SCORE\"].mean()\n",
        "    .sort_values(ascending=True)\n",
        "    .plot(\n",
        "        kind='bar',\n",
        "        xlabel=\"Region\",\n",
        "        ylabel=\"Average Maternity Leave\",\n",
        "        title=\"Distribution of Maternity Leave\"\n",
        "    )\n",
        ")   "
      ],
      "metadata": {
        "colab": {
          "base_uri": "https://localhost:8080/",
          "height": 437
        },
        "id": "bBJHkuyWfnE9",
        "outputId": "0a46054a-c5ba-4df6-ec03-01f80ac4c192"
      },
      "id": "bBJHkuyWfnE9",
      "execution_count": 14,
      "outputs": [
        {
          "output_type": "execute_result",
          "data": {
            "text/plain": [
              "<matplotlib.axes._subplots.AxesSubplot at 0x7ff0f9800bd0>"
            ]
          },
          "metadata": {},
          "execution_count": 14
        },
        {
          "output_type": "display_data",
          "data": {
            "text/plain": [
              "<Figure size 432x288 with 1 Axes>"
            ],
            "image/png": "[encoded data removed]"
          },
          "metadata": {
            "needs_background": "light"
          }
        }
      ]
    },
    {
      "cell_type": "code",
      "source": [
        "(\n",
        "    df1\n",
        "    .groupby(\"Regional indicator\")\n",
        "    [\"Logged GDP per capita\"].mean()\n",
        "    .sort_values(ascending=True)\n",
        "    .plot(\n",
        "        kind=\"bar\",\n",
        "        xlabel=\"Regional Indicator\",\n",
        "        ylabel=\"GDP per capita\",\n",
        "        title=\"Global Trend - GDP per capita\"\n",
        "    )\n",
        ")   "
      ],
      "metadata": {
        "colab": {
          "base_uri": "https://localhost:8080/",
          "height": 494
        },
        "id": "Ks-B49wCwlU1",
        "outputId": "7cc1e705-7000-4567-8ec0-f50dd67628ea"
      },
      "id": "Ks-B49wCwlU1",
      "execution_count": 9,
      "outputs": [
        {
          "output_type": "execute_result",
          "data": {
            "text/plain": [
              "<matplotlib.axes._subplots.AxesSubplot at 0x7fa3580ea2d0>"
            ]
          },
          "metadata": {},
          "execution_count": 9
        },
        {
          "output_type": "display_data",
          "data": {
            "text/plain": [
              "<Figure size 432x288 with 1 Axes>"
            ],
            "image/png": "[encoded data removed]"
          },
          "metadata": {
            "needs_background": "light"
          }
        }
      ]
    },
    {
      "cell_type": "code",
      "source": [
        "df2 = pd.read_csv('/content/drive/MyDrive/paid_leave.csv')\n",
        "df2.head()"
      ],
      "metadata": {
        "colab": {
          "base_uri": "https://localhost:8080/",
          "height": 354
        },
        "id": "2DIePMXwJVTI",
        "outputId": "61c5427b-fad6-4fcd-f9cd-72200c73cad5"
      },
      "id": "2DIePMXwJVTI",
      "execution_count": 10,
      "outputs": [
        {
          "output_type": "execute_result",
          "data": {
            "text/plain": [
              "                                   Indicator Name Indicator Code Country Name  \\\n",
              "0  Length of paid maternity leave (calendar days)    SH.MMR.LEVE  Afghanistan   \n",
              "1  Length of paid maternity leave (calendar days)    SH.MMR.LEVE  Afghanistan   \n",
              "2  Length of paid maternity leave (calendar days)    SH.MMR.LEVE  Afghanistan   \n",
              "3  Length of paid maternity leave (calendar days)    SH.MMR.LEVE  Afghanistan   \n",
              "4  Length of paid maternity leave (calendar days)    SH.MMR.LEVE  Afghanistan   \n",
              "\n",
              "  Country Code  Year  Value Disaggregation  \n",
              "0          AFG  2021     90         female  \n",
              "1          AFG  2020     90         female  \n",
              "2          AFG  2019     90         female  \n",
              "3          AFG  2018     90         female  \n",
              "4          AFG  2017     90         female  "
            ],
            "text/html": [
              "\n",
              "  <div id=\"df-a77a61e1-2212-4788-9704-8b794c2ac35a\">\n",
              "    <div class=\"colab-df-container\">\n",
              "      <div>\n",
              "<style scoped>\n",
              "    .dataframe tbody tr th:only-of-type {\n",
              "        vertical-align: middle;\n",
              "    }\n",
              "\n",
              "    .dataframe tbody tr th {\n",
              "        vertical-align: top;\n",
              "    }\n",
              "\n",
              "    .dataframe thead th {\n",
              "        text-align: right;\n",
              "    }\n",
              "</style>\n",
              "<table border=\"1\" class=\"dataframe\">\n",
              "  <thead>\n",
              "    <tr style=\"text-align: right;\">\n",
              "      <th></th>\n",
              "      <th>Indicator Name</th>\n",
              "      <th>Indicator Code</th>\n",
              "      <th>Country Name</th>\n",
              "      <th>Country Code</th>\n",
              "      <th>Year</th>\n",
              "      <th>Value</th>\n",
              "      <th>Disaggregation</th>\n",
              "    </tr>\n",
              "  </thead>\n",
              "  <tbody>\n",
              "    <tr>\n",
              "      <th>0</th>\n",
              "      <td>Length of paid maternity leave (calendar days)</td>\n",
              "      <td>SH.MMR.LEVE</td>\n",
              "      <td>Afghanistan</td>\n",
              "      <td>AFG</td>\n",
              "      <td>2021</td>\n",
              "      <td>90</td>\n",
              "      <td>female</td>\n",
              "    </tr>\n",
              "    <tr>\n",
              "      <th>1</th>\n",
              "      <td>Length of paid maternity leave (calendar days)</td>\n",
              "      <td>SH.MMR.LEVE</td>\n",
              "      <td>Afghanistan</td>\n",
              "      <td>AFG</td>\n",
              "      <td>2020</td>\n",
              "      <td>90</td>\n",
              "      <td>female</td>\n",
              "    </tr>\n",
              "    <tr>\n",
              "      <th>2</th>\n",
              "      <td>Length of paid maternity leave (calendar days)</td>\n",
              "      <td>SH.MMR.LEVE</td>\n",
              "      <td>Afghanistan</td>\n",
              "      <td>AFG</td>\n",
              "      <td>2019</td>\n",
              "      <td>90</td>\n",
              "      <td>female</td>\n",
              "    </tr>\n",
              "    <tr>\n",
              "      <th>3</th>\n",
              "      <td>Length of paid maternity leave (calendar days)</td>\n",
              "      <td>SH.MMR.LEVE</td>\n",
              "      <td>Afghanistan</td>\n",
              "      <td>AFG</td>\n",
              "      <td>2018</td>\n",
              "      <td>90</td>\n",
              "      <td>female</td>\n",
              "    </tr>\n",
              "    <tr>\n",
              "      <th>4</th>\n",
              "      <td>Length of paid maternity leave (calendar days)</td>\n",
              "      <td>SH.MMR.LEVE</td>\n",
              "      <td>Afghanistan</td>\n",
              "      <td>AFG</td>\n",
              "      <td>2017</td>\n",
              "      <td>90</td>\n",
              "      <td>female</td>\n",
              "    </tr>\n",
              "  </tbody>\n",
              "</table>\n",
              "</div>\n",
              "      <button class=\"colab-df-convert\" onclick=\"convertToInteractive('df-a77a61e1-2212-4788-9704-8b794c2ac35a')\"\n",
              "              title=\"Convert this dataframe to an interactive table.\"\n",
              "              style=\"display:none;\">\n",
              "        \n",
              "  <svg xmlns=\"http://www.w3.org/2000/svg\" height=\"24px\"viewBox=\"0 0 24 24\"\n",
              "       width=\"24px\">\n",
              "    <path d=\"M0 0h24v24H0V0z\" fill=\"none\"/>\n",
              "    <path d=\"M18.56 5.44l.94 2.06.94-2.06 2.06-.94-2.06-.94-.94-2.06-.94 2.06-2.06.94zm-11 1L8.5 8.5l.94-2.06 2.06-.94-2.06-.94L8.5 2.5l-.94 2.06-2.06.94zm10 10l.94 2.06.94-2.06 2.06-.94-2.06-.94-.94-2.06-.94 2.06-2.06.94z\"/><path d=\"M17.41 7.96l-1.37-1.37c-.4-.4-.92-.59-1.43-.59-.52 0-1.04.2-1.43.59L10.3 9.45l-7.72 7.72c-.78.78-.78 2.05 0 2.83L4 21.41c.39.39.9.59 1.41.59.51 0 1.02-.2 1.41-.59l7.78-7.78 2.81-2.81c.8-.78.8-2.07 0-2.86zM5.41 20L4 18.59l7.72-7.72 1.47 1.35L5.41 20z\"/>\n",
              "  </svg>\n",
              "      </button>\n",
              "      \n",
              "  <style>\n",
              "    .colab-df-container {\n",
              "      display:flex;\n",
              "      flex-wrap:wrap;\n",
              "      gap: 12px;\n",
              "    }\n",
              "\n",
              "    .colab-df-convert {\n",
              "      background-color: #E8F0FE;\n",
              "      border: none;\n",
              "      border-radius: 50%;\n",
              "      cursor: pointer;\n",
              "      display: none;\n",
              "      fill: #1967D2;\n",
              "      height: 32px;\n",
              "      padding: 0 0 0 0;\n",
              "      width: 32px;\n",
              "    }\n",
              "\n",
              "    .colab-df-convert:hover {\n",
              "      background-color: #E2EBFA;\n",
              "      box-shadow: 0px 1px 2px rgba(60, 64, 67, 0.3), 0px 1px 3px 1px rgba(60, 64, 67, 0.15);\n",
              "      fill: #174EA6;\n",
              "    }\n",
              "\n",
              "    [theme=dark] .colab-df-convert {\n",
              "      background-color: #3B4455;\n",
              "      fill: #D2E3FC;\n",
              "    }\n",
              "\n",
              "    [theme=dark] .colab-df-convert:hover {\n",
              "      background-color: #434B5C;\n",
              "      box-shadow: 0px 1px 3px 1px rgba(0, 0, 0, 0.15);\n",
              "      filter: drop-shadow(0px 1px 2px rgba(0, 0, 0, 0.3));\n",
              "      fill: #FFFFFF;\n",
              "    }\n",
              "  </style>\n",
              "\n",
              "      <script>\n",
              "        const buttonEl =\n",
              "          document.querySelector('#df-a77a61e1-2212-4788-9704-8b794c2ac35a button.colab-df-convert');\n",
              "        buttonEl.style.display =\n",
              "          google.colab.kernel.accessAllowed ? 'block' : 'none';\n",
              "\n",
              "        async function convertToInteractive(key) {\n",
              "          const element = document.querySelector('#df-a77a61e1-2212-4788-9704-8b794c2ac35a');\n",
              "          const dataTable =\n",
              "            await google.colab.kernel.invokeFunction('convertToInteractive',\n",
              "                                                     [key], {});\n",
              "          if (!dataTable) return;\n",
              "\n",
              "          const docLinkHtml = 'Like what you see? Visit the ' +\n",
              "            '<a target=\"_blank\" href=https://colab.research.google.com/notebooks/data_table.ipynb>data table notebook</a>'\n",
              "            + ' to learn more about interactive tables.';\n",
              "          element.innerHTML = '';\n",
              "          dataTable['output_type'] = 'display_data';\n",
              "          await google.colab.output.renderOutput(dataTable, element);\n",
              "          const docLink = document.createElement('div');\n",
              "          docLink.innerHTML = docLinkHtml;\n",
              "          element.appendChild(docLink);\n",
              "        }\n",
              "      </script>\n",
              "    </div>\n",
              "  </div>\n",
              "  "
            ]
          },
          "metadata": {},
          "execution_count": 10
        }
      ]
    },
    {
      "cell_type": "code",
      "execution_count": 14,
      "id": "3e8e7582",
      "metadata": {
        "id": "3e8e7582",
        "colab": {
          "base_uri": "https://localhost:8080/"
        },
        "outputId": "1fe5daa2-10af-4d17-c39f-b8a77fe553c3"
      },
      "outputs": [
        {
          "output_type": "stream",
          "name": "stdout",
          "text": [
            "The paid family leave has 29484 rows and 7 columns\n"
          ]
        }
      ],
      "source": [
        "# Understanding what the data content looks like\n",
        "df2.shape\n",
        "print(f\"The paid family leave has {df2.shape[0]} rows and {df2.shape[1]} columns\")"
      ]
    },
    {
      "cell_type": "code",
      "execution_count": 15,
      "id": "d4737733",
      "metadata": {
        "id": "d4737733",
        "colab": {
          "base_uri": "https://localhost:8080/"
        },
        "outputId": "5d30f6d9-eeda-4526-b0cd-151a9076960b"
      },
      "outputs": [
        {
          "output_type": "stream",
          "name": "stdout",
          "text": [
            "<class 'pandas.core.frame.DataFrame'>\n",
            "RangeIndex: 29484 entries, 0 to 29483\n",
            "Data columns (total 7 columns):\n",
            " #   Column          Non-Null Count  Dtype \n",
            "---  ------          --------------  ----- \n",
            " 0   Indicator Name  29484 non-null  object\n",
            " 1   Indicator Code  29484 non-null  object\n",
            " 2   Country Name    29484 non-null  object\n",
            " 3   Country Code    29484 non-null  object\n",
            " 4   Year            29484 non-null  int64 \n",
            " 5   Value           29484 non-null  int64 \n",
            " 6   Disaggregation  29484 non-null  object\n",
            "dtypes: int64(2), object(5)\n",
            "memory usage: 1.6+ MB\n"
          ]
        }
      ],
      "source": [
        "# Data types contained in the dataset\n",
        "df2.info()"
      ]
    },
    {
      "cell_type": "code",
      "source": [
        "plt.scatter(x=df2['Country Name'], y=df2['Value'])\n",
        "plt.xlabel(\"Country\")\n",
        "plt.ylabel(\"Paid Leave Days\")\n",
        "plt.title(\"Global Trend in Paid Leave\")\n",
        "#plt.xscale(value=\"logit\")"
      ],
      "metadata": {
        "colab": {
          "base_uri": "https://localhost:8080/",
          "height": 312
        },
        "id": "X7NfPqD5xpqt",
        "outputId": "794c74ca-6a16-4387-cf3b-2d5d05b30bee"
      },
      "id": "X7NfPqD5xpqt",
      "execution_count": 15,
      "outputs": [
        {
          "output_type": "execute_result",
          "data": {
            "text/plain": [
              "Text(0.5, 1.0, 'Global Trend in Paid Leave')"
            ]
          },
          "metadata": {},
          "execution_count": 15
        },
        {
          "output_type": "display_data",
          "data": {
            "text/plain": [
              "<Figure size 432x288 with 1 Axes>"
            ],
            "image/png": "[encoded data removed]"
          },
          "metadata": {
            "needs_background": "light"
          }
        }
      ]
    },
    {
      "cell_type": "code",
      "source": [],
      "metadata": {
        "id": "7PBZM52yRIxk"
      },
      "id": "7PBZM52yRIxk",
      "execution_count": null,
      "outputs": []
    },
    {
      "cell_type": "code",
      "source": [
        "(\n",
        "    df2\n",
        "    .groupby(\"Indicator Code\")\n",
        "    [\"Value\"].mean()\n",
        "    .sort_values(ascending=True)\n",
        "    .plot(\n",
        "        kind=\"bar\",\n",
        "        xlabel=\"Leave - Parental, Parternity, Maternity\",\n",
        "        ylabel=\"Paid Leave Days\",\n",
        "        title=\"Paid Leave Days Trend\"\n",
        "    )\n",
        ")   "
      ],
      "metadata": {
        "colab": {
          "base_uri": "https://localhost:8080/",
          "height": 371
        },
        "id": "QYHzgYix4_1U",
        "outputId": "589394e9-8ff7-458c-82c8-978a4e1bbc4d"
      },
      "id": "QYHzgYix4_1U",
      "execution_count": 17,
      "outputs": [
        {
          "output_type": "execute_result",
          "data": {
            "text/plain": [
              "<matplotlib.axes._subplots.AxesSubplot at 0x7fa356f89150>"
            ]
          },
          "metadata": {},
          "execution_count": 17
        },
        {
          "output_type": "display_data",
          "data": {
            "text/plain": [
              "<Figure size 432x288 with 1 Axes>"
            ],
            "image/png": "[encoded data removed]"
          },
          "metadata": {
            "needs_background": "light"
          }
        }
      ]
    },
    {
      "cell_type": "markdown",
      "id": "637dda1c",
      "metadata": {
        "id": "637dda1c"
      },
      "source": [
        "**Observations**:\n",
        "- There are no null values in the data, the data looks cleaned\n",
        "- The dataframe contains 9 object columns and 9 numerical columns"
      ]
    },
    {
      "cell_type": "markdown",
      "id": "d0b6a544",
      "metadata": {
        "id": "d0b6a544"
      },
      "source": [
        " ### Dataset Variables\n",
        " \n",
        " - **Country**: Country/Economy of the world                                                          \n",
        " - **ISO Code**: Country code                                                          \n",
        " - **Region**: Country region                                                          \n",
        " - **Income Group**: Income group of women in that country                                                      \n",
        " - **Report Year**: Year report was conducted                                                       \n",
        " - **WBL INDEX**: Women, Business and Law Equality Index/Score                                                         \n",
        " - **PAY Score**: Score for job pay                                                          \n",
        " - **PFL Score**: Pail Family Leave Score                                                         \n",
        " - **Is paid leave of at least 14 weeks available to mothers?**: Noting countries with longer leave days for mothers           \n",
        " - **Length of paid maternity leave**: Length of maternity leave days                                    \n",
        " - **Does the government administer 100% of maternity leave benefits?**: Government support of maternity leave   \n",
        " - **Is there paid leave available to fathers?**:                         \n",
        " - **Length of paid paternity leave**: Father's leave days                                                                     \n",
        " - **Shared days**: Days both parent can share their leave days                                                     \n",
        " - **Days for the mother**:                                               \n",
        " - **Days for the father**:                                            \n",
        " - **Is dismissal of pregnant workers prohibited?**: Enabling women to keep their jobs while being pregnant\n",
        "\n",
        "**Target Variable:**\n",
        "- **Is there paid parental leave?**: Indicative of countries with paid family leave "
      ]
    },
    {
      "cell_type": "markdown",
      "id": "d5e7529b",
      "metadata": {
        "id": "d5e7529b"
      },
      "source": [
        "## BASIC EDA\n",
        "### Data Cleaning\n",
        "- Check for duplicates and handle them\n",
        "- Check for missing or null values and handle them"
      ]
    },
    {
      "cell_type": "code",
      "execution_count": null,
      "id": "e2ad1e9c",
      "metadata": {
        "id": "e2ad1e9c"
      },
      "outputs": [],
      "source": [
        "# Check for duplicates in rows\n",
        "df.duplicated().sum()"
      ]
    },
    {
      "cell_type": "code",
      "execution_count": null,
      "id": "b4283950",
      "metadata": {
        "id": "b4283950"
      },
      "outputs": [],
      "source": [
        "# Check for duplicated columns\n",
        "df.T.duplicated().sum()"
      ]
    },
    {
      "cell_type": "code",
      "execution_count": null,
      "id": "7edad555",
      "metadata": {
        "id": "7edad555"
      },
      "outputs": [],
      "source": [
        "#Using .describe().T, we will get a quick breakdown of the summary statistics for numeric columns\n",
        "# Use .T to take the transpose, this makes the columns the rows \n",
        "df.describe().T"
      ]
    },
    {
      "cell_type": "code",
      "execution_count": null,
      "id": "97a7bdd0",
      "metadata": {
        "id": "97a7bdd0"
      },
      "outputs": [],
      "source": [
        "# check for null values in each column\n",
        "df.isna().sum()/df.shape[0]"
      ]
    },
    {
      "cell_type": "markdown",
      "id": "3bafb09e",
      "metadata": {
        "id": "3bafb09e"
      },
      "source": [
        "**Observations:**\n",
        "- There are no duplicates in the dataset\n",
        "- There are no null values present\n",
        "- There is an average of 84 days of paid maternity leave for women\n",
        "- There is an average of 1 day for paternity leave for fathers"
      ]
    },
    {
      "cell_type": "markdown",
      "id": "e894953f",
      "metadata": {
        "id": "e894953f"
      },
      "source": [
        "## DATA VISUALIZATION DETAILS"
      ]
    },
    {
      "cell_type": "code",
      "execution_count": null,
      "id": "a7f6c3f4",
      "metadata": {
        "id": "a7f6c3f4"
      },
      "outputs": [],
      "source": [
        "# Visualizing Maternity Leave days by Country Over the years\n",
        "plt.figure(figsize=(10,6),dpi=150)\n",
        "px.choropleth(\n",
        "    data_frame = df,\n",
        "    locations = 'Country',\n",
        "    locationmode = 'country names',\n",
        "    color = 'Length of paid maternity leave',\n",
        "    animation_frame = 'Report Year',\n",
        "    labels = {'Report Year': 'Year', 'Country': 'Country', 'Length of paid maternity leave': 'Maternity leave days'},\n",
        "    color_continuous_scale = px.colors.colorbrewer.YlGn,\n",
        "    range_color = [df['Length of paid maternity leave'].min(), df['Length of paid maternity leave'].max()],\n",
        "    scope ='world',\n",
        "    title ='Maternity Leave days by Country Over the years'\n",
        ")"
      ]
    },
    {
      "cell_type": "code",
      "execution_count": null,
      "id": "bad1c0c1",
      "metadata": {
        "id": "bad1c0c1"
      },
      "outputs": [],
      "source": [
        "# Visualizing Paternity Leave days by Country Over the years\n",
        "plt.figure(figsize=(10,6),dpi=150)\n",
        "px.choropleth(\n",
        "    data_frame = df,\n",
        "    locations = 'Country',\n",
        "    locationmode = 'country names',\n",
        "    color = 'Length of paid paternity leave',\n",
        "    animation_frame = 'Report Year',\n",
        "    labels = {'Report Year': 'Year', 'Country': 'Country', 'Length of paid paternity leave': 'Paternity leave days'},\n",
        "    color_continuous_scale = px.colors.colorbrewer.YlGn,\n",
        "    range_color = [df['Length of paid paternity leave'].min(), df['Length of paid paternity leave'].max()],\n",
        "    scope ='world',\n",
        "    title ='Paternity Leave days by Country Over the years'\n",
        ")"
      ]
    },
    {
      "cell_type": "code",
      "execution_count": null,
      "id": "6285059f",
      "metadata": {
        "id": "6285059f"
      },
      "outputs": [],
      "source": [
        "# Visualizing PFL Score days by Country Over the years\n",
        "plt.figure(figsize=(10,6),dpi=150)\n",
        "px.choropleth(\n",
        "    data_frame = df,\n",
        "    locations = 'Country',\n",
        "    locationmode = 'country names',\n",
        "    color = 'PFL Score',\n",
        "    animation_frame = 'Report Year',\n",
        "    labels = {'Report Year': 'Year', 'Country': 'Country', 'PFL Score': 'PFL Score'},\n",
        "    color_continuous_scale = px.colors.colorbrewer.BuPu,\n",
        "    range_color = [df['PFL Score'].min(), df['PFL Score'].max()],\n",
        "    scope ='world',\n",
        "    title ='Change in PFL Score of Countries Over the years'\n",
        ")"
      ]
    },
    {
      "cell_type": "markdown",
      "id": "7871b2ec",
      "metadata": {
        "id": "7871b2ec"
      },
      "source": [
        "**Observation:**\n",
        "- France and Hungary with noticeable parental leave score of 80 as of 1971. This shows that there were already women who were income earners as of that time\n",
        "- Russia and Canada had a significant score improvement from 1999\n",
        "- Some countries with a 100% score include Australia, Russia, Canada, Sweden, France, Bulgaria, Columbia as of this present year 2022\n",
        "- This is indicative of countries string to close the gender inequality gap in the workplace as regards to paid family leave"
      ]
    },
    {
      "cell_type": "code",
      "execution_count": null,
      "id": "b2a0524f",
      "metadata": {
        "id": "b2a0524f"
      },
      "outputs": [],
      "source": [
        "# Countries with women as low income, middle income or high income earners\n",
        "women_income = df.groupby(['Country', 'Income Group']).size()\n",
        "women_income = women_income.to_frame(name = 'count').reset_index()\n",
        "women_income"
      ]
    },
    {
      "cell_type": "code",
      "execution_count": null,
      "id": "898719aa",
      "metadata": {
        "id": "898719aa"
      },
      "outputs": [],
      "source": [
        "# Countries where women are low income earners\n",
        "low_income = women_income[women_income['Income Group'].isin(['Low income'])]\n",
        "low_income"
      ]
    },
    {
      "cell_type": "code",
      "execution_count": null,
      "id": "1bcb2fdd",
      "metadata": {
        "id": "1bcb2fdd"
      },
      "outputs": [],
      "source": [
        "# Countries where women are upper middle income earners\n",
        "Upper_middle_income = women_income[women_income['Income Group'].isin(['Upper middle income'])]\n",
        "Upper_middle_income"
      ]
    },
    {
      "cell_type": "code",
      "execution_count": null,
      "id": "536faf91",
      "metadata": {
        "id": "536faf91"
      },
      "outputs": [],
      "source": [
        "# Countries where women are high income earners\n",
        "high_income = women_income[women_income['Income Group'].isin(['High income'])]\n",
        "high_income"
      ]
    },
    {
      "cell_type": "code",
      "execution_count": null,
      "id": "2f1af456",
      "metadata": {
        "scrolled": true,
        "id": "2f1af456"
      },
      "outputs": [],
      "source": [
        "# Paid family leave or not\n",
        "df['Is there paid parental leave?'].value_counts()"
      ]
    },
    {
      "cell_type": "code",
      "execution_count": null,
      "id": "17d60889",
      "metadata": {
        "id": "17d60889"
      },
      "outputs": [],
      "source": [
        "# Paid family leave of this year\n",
        "# Filter original dataset to year 2022\n",
        "present_df = df[(df['Report Year']==2022)].copy()\n",
        "present_df.head()"
      ]
    },
    {
      "cell_type": "code",
      "execution_count": null,
      "id": "e407c84e",
      "metadata": {
        "id": "e407c84e"
      },
      "outputs": [],
      "source": [
        "# Paid family leave or not in present year\n",
        "present_df['Is there paid parental leave?'].value_counts()"
      ]
    },
    {
      "cell_type": "markdown",
      "id": "b848ae96",
      "metadata": {
        "id": "b848ae96"
      },
      "source": [
        "**Observation:**\n",
        "\n",
        "In this year 2022, out of 190 countries, 50 countries have paid family benefit available for parents while 140 countries don't."
      ]
    },
    {
      "cell_type": "code",
      "execution_count": null,
      "id": "5e3bef5b",
      "metadata": {
        "id": "5e3bef5b"
      },
      "outputs": [],
      "source": [
        "df=pd.DataFrame(pd.read_csv(\"paid_leave.csv\"))\n",
        "df.head()"
      ]
    },
    {
      "cell_type": "code",
      "execution_count": null,
      "id": "2139741d",
      "metadata": {
        "id": "2139741d"
      },
      "outputs": [],
      "source": [
        "pml = df[df['Indicator Code']=='SH.MMR.LEVE']\n",
        "pml.rename(columns={'Value':'mat_leave'}, inplace=True)\n",
        "pml.drop(['Disaggregation','Country Code','Indicator Code','Indicator Name'],axis=1, inplace=True)\n",
        "pml.head()"
      ]
    },
    {
      "cell_type": "code",
      "execution_count": null,
      "id": "381dfb96",
      "metadata": {
        "id": "381dfb96"
      },
      "outputs": [],
      "source": [
        "df['Indicator Code'].unique()"
      ]
    },
    {
      "cell_type": "code",
      "execution_count": null,
      "id": "4a8176a3",
      "metadata": {
        "id": "4a8176a3"
      },
      "outputs": [],
      "source": [
        "ptr = df[df['Indicator Code']=='SH.PTR.LEVE']\n",
        "ptr.rename(columns={'Value':'pat_leave'}, inplace=True)\n",
        "ptr.drop(['Disaggregation','Country Code','Indicator Code','Indicator Name'],axis=1, inplace=True)\n",
        "ptr.head()"
      ]
    },
    {
      "cell_type": "code",
      "execution_count": null,
      "id": "50b26402",
      "metadata": {
        "id": "50b26402"
      },
      "outputs": [],
      "source": [
        "par = df[df['Indicator Code']=='SH.PAR.LEVE']\n",
        "par.rename(columns={'Value':'par_leave'}, inplace=True)\n",
        "par.drop(['Disaggregation','Country Code','Indicator Code','Indicator Name'],axis=1, inplace=True)\n",
        "par.head()"
      ]
    },
    {
      "cell_type": "code",
      "source": [
        "md_leave=pml.merge(ptr, how='outer', on=['Country Name','Year'])"
      ],
      "metadata": {
        "id": "wfmZjsCnfwIx"
      },
      "id": "wfmZjsCnfwIx",
      "execution_count": null,
      "outputs": []
    },
    {
      "cell_type": "code",
      "source": [
        "pl=md_leave.merge(par, how='outer', on=['Country Name','Year'])\n",
        "pl.head()"
      ],
      "metadata": {
        "id": "UYejWaaMfwME"
      },
      "id": "UYejWaaMfwME",
      "execution_count": null,
      "outputs": []
    },
    {
      "cell_type": "code",
      "source": [
        "pl.corr()"
      ],
      "metadata": {
        "id": "MrY6QQZ1fwO4"
      },
      "id": "MrY6QQZ1fwO4",
      "execution_count": null,
      "outputs": []
    },
    {
      "cell_type": "code",
      "source": [
        "c=pl[pl['Year']==2021][['Country Name','par_leave']].sort_values(by=['par_leave'],ascending=False)\n",
        "c[c['par_leave']>0].plot.bar(rot=0)"
      ],
      "metadata": {
        "id": "7jY0phE5fwSS"
      },
      "id": "7jY0phE5fwSS",
      "execution_count": null,
      "outputs": []
    },
    {
      "cell_type": "code",
      "source": [
        "# Countries with parental leave\n",
        "c[c['par_leave']>0].shape[0]/c.shape[0]"
      ],
      "metadata": {
        "id": "Xk7flDlofwVd"
      },
      "id": "Xk7flDlofwVd",
      "execution_count": null,
      "outputs": []
    },
    {
      "cell_type": "code",
      "source": [
        "# Countries with paternal leave\n",
        "c_pat=pl[pl['Year']==2021][['Country Name','pat_leave']].sort_values(by=['pat_leave'],ascending=False)\n",
        "c_pat[c_pat['pat_leave']>0].shape[0]/c.shape[0]"
      ],
      "metadata": {
        "id": "wA6Gy1xEfwYR"
      },
      "id": "wA6Gy1xEfwYR",
      "execution_count": null,
      "outputs": []
    },
    {
      "cell_type": "code",
      "source": [
        "# Countries with maternal leave\n",
        "c_mat=pl[pl['Year']==2021][['Country Name','mat_leave']].sort_values(by=['mat_leave'],ascending=False)\n",
        "c_mat[c_mat['mat_leave']>0].shape[0]/c.shape[0]"
      ],
      "metadata": {
        "id": "q3vMsx5nfwbr"
      },
      "id": "q3vMsx5nfwbr",
      "execution_count": null,
      "outputs": []
    },
    {
      "cell_type": "code",
      "source": [
        "happ=pd.DataFrame(pd.read_csv(\"happ.csv\"))\n",
        "happ.head()"
      ],
      "metadata": {
        "id": "gPPf-sE2fwfD"
      },
      "id": "gPPf-sE2fwfD",
      "execution_count": null,
      "outputs": []
    },
    {
      "cell_type": "code",
      "source": [
        "leaves=pl[pl['Year']==2021]"
      ],
      "metadata": {
        "id": "eAtEaLMhfwiK"
      },
      "id": "eAtEaLMhfwiK",
      "execution_count": null,
      "outputs": []
    },
    {
      "cell_type": "code",
      "source": [
        "full_data=happ.merge(leaves,left_on='Country name',right_on='Country Name',how='inner')\n",
        "full_data.head()"
      ],
      "metadata": {
        "id": "SfHc9u-gf-51"
      },
      "id": "SfHc9u-gf-51",
      "execution_count": null,
      "outputs": []
    },
    {
      "cell_type": "code",
      "source": [
        "full_data[['pat_leave','Ladder score']].corr()"
      ],
      "metadata": {
        "id": "jlFEawn1f-8z"
      },
      "id": "jlFEawn1f-8z",
      "execution_count": null,
      "outputs": []
    },
    {
      "cell_type": "code",
      "source": [
        "# Observations\n",
        "# 94% of the countries have maternity leave \n",
        "# Around 55% of countries have paternity leave\n",
        "# Only 17% of the countries have paid parental leaves\n",
        "# Over the years, we have seen a growth in paternity leaves and parental leaves being provided (growth in paternity leaves is more than growth in paid parental leave)\n",
        "# High maternity leaves is correlated positively with high paid parental leave as well\n",
        "# Increase in paternity leave is positively correlated with happiness score of the country. The hypothesis we can form is that when paternity leaves are provided, men are able to support women thus sharing the child workload and contributing towards positive happiness of the country. This hypothesis can be tested with other factors that contribute to the happiness of a country to see how much of a weight leaves has on the happiness index."
      ],
      "metadata": {
        "id": "lZ50NmKuf-_s"
      },
      "id": "lZ50NmKuf-_s",
      "execution_count": null,
      "outputs": []
    },
    {
      "cell_type": "code",
      "source": [],
      "metadata": {
        "id": "c_dj8i3mf_Cm"
      },
      "id": "c_dj8i3mf_Cm",
      "execution_count": null,
      "outputs": []
    },
    {
      "cell_type": "code",
      "source": [],
      "metadata": {
        "id": "eWSXM2Cef_Fb"
      },
      "id": "eWSXM2Cef_Fb",
      "execution_count": null,
      "outputs": []
    },
    {
      "cell_type": "code",
      "source": [],
      "metadata": {
        "id": "v4raWSfqf_IV"
      },
      "id": "v4raWSfqf_IV",
      "execution_count": null,
      "outputs": []
    }
  ],
  "metadata": {
    "kernelspec": {
      "display_name": "Python 3 (ipykernel)",
      "language": "python",
      "name": "python3"
    },
    "language_info": {
      "codemirror_mode": {
        "name": "ipython",
        "version": 3
      },
      "file_extension": ".py",
      "mimetype": "text/x-python",
      "name": "python",
      "nbconvert_exporter": "python",
      "pygments_lexer": "ipython3",
      "version": "3.9.7"
    },
    "toc": {
      "base_numbering": 1,
      "nav_menu": {},
      "number_sections": true,
      "sideBar": true,
      "skip_h1_title": false,
      "title_cell": "Table of Contents",
      "title_sidebar": "Contents",
      "toc_cell": false,
      "toc_position": {},
      "toc_section_display": true,
      "toc_window_display": false
    },
    "colab": {
      "provenance": [],
      "collapsed_sections": [],
      "include_colab_link": true
    }
  },
  "nbformat": 4,
  "nbformat_minor": 5
}