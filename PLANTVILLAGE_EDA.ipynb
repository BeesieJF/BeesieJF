{
  "nbformat": 4,
  "nbformat_minor": 0,
  "metadata": {
    "colab": {
      "provenance": [],
      "collapsed_sections": [],
      "authorship_tag": "ABX9TyOsSmG2N28Ro5wpszQk0zKC",
      "include_colab_link": true
    },
    "kernelspec": {
      "name": "python3",
      "display_name": "Python 3"
    },
    "language_info": {
      "name": "python"
    }
  },
  "cells": [
    {
      "cell_type": "markdown",
      "metadata": {
        "id": "view-in-github",
        "colab_type": "text"
      },
      "source": [
        "<a href=\"https://colab.research.google.com/github/BeesieJF/BeesieJF/blob/main/PLANTVILLAGE_EDA.ipynb\" target=\"_parent\"><img src=\"https://colab.research.google.com/assets/colab-badge.svg\" alt=\"Open In Colab\"/></a>"
      ]
    },
    {
      "cell_type": "markdown",
      "source": [
        "**OMDENA ALGERIA - GREENHOUSE - PLANTVILLAGE DATASET - TASK2 EDA**\n",
        "\n",
        "---\n",
        "\n"
      ],
      "metadata": {
        "id": "kFCR3tQ5JWb_"
      }
    },
    {
      "cell_type": "code",
      "execution_count": null,
      "metadata": {
        "id": "ZnjyT7g2Jis7"
      },
      "outputs": [],
      "source": [
        "#import all required libraries\n",
        "!pip install tensorflow-gpu==1.15.0 tensorflow==1.15.0\n",
        "!pip install deeplake[all]\n",
        "import tensorflow as tf\n",
        "import pandas as pd\n",
        "import math\n",
        "import numpy as np\n",
        "#import _ssl.PROTOCOL_TLS\n",
        "from matplotlib import pyplot as plt\n",
        "#import deeplake"
      ]
    },
    {
      "cell_type": "code",
      "source": [
        "#load data from deeplake\n",
        "ds = deeplake.load('hub://activeloop/plantvillage-with-augmentation')\n",
        "ds_tensorflow = ds.tensorflow()"
      ],
      "metadata": {
        "id": "9KVXJepawGKL"
      },
      "execution_count": null,
      "outputs": []
    },
    {
      "cell_type": "code",
      "source": [
        "def get_dataset(image_paths, image_type, resize_shape, channels):\n",
        "    filename_tensor = tf.constant(image_paths)\n",
        "    dataset = tf.data.Dataset.from_tensor_slices(filename_tensor)\n",
        "    \n",
        "    def _map_fn(filename):\n",
        "        decode_images = decode_image(filename, image_type, resize_shape, channels=channels)\n",
        "        return decode_images\n",
        "    \n",
        "    map_dataset = dataset.map(_map_fn) \n",
        "    # we use the map method: allow to apply the function _map_fn to all the \n",
        "    # elements of dataset \n",
        "    return map_dataset"
      ],
      "metadata": {
        "id": "asfpc6icEJq-"
      },
      "execution_count": null,
      "outputs": []
    },
    {
      "cell_type": "code",
      "source": [
        "def get_image_data(image_paths, image_type, resize_shape, channels):\n",
        "    dataset = get_dataset(image_paths, image_type, resize_shape, channels)\n",
        "    iterator = tf.compat.v1.data.make_one_shot_iterator(dataset)\n",
        "    next_image = iterator.get_next()\n",
        "    \n",
        "    return next_image"
      ],
      "metadata": {
        "id": "jN4nj60PE1St"
      },
      "execution_count": null,
      "outputs": []
    }
  ]
}